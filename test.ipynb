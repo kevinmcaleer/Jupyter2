{
 "metadata": {
  "language_info": {
   "codemirror_mode": {
    "name": "ipython",
    "version": 3
   },
   "file_extension": ".py",
   "mimetype": "text/x-python",
   "name": "python",
   "nbconvert_exporter": "python",
   "pygments_lexer": "ipython3",
   "version": "3.8.2-final"
  },
  "orig_nbformat": 2,
  "kernelspec": {
   "name": "python3",
   "display_name": "Python 3",
   "language": "python"
  }
 },
 "nbformat": 4,
 "nbformat_minor": 2,
 "cells": [
  {
   "source": [
    "# Movement Code\n",
    "Lets make our Robot move \n"
   ],
   "cell_type": "markdown",
   "metadata": {}
  },
  {
   "cell_type": "code",
   "execution_count": 5,
   "metadata": {},
   "outputs": [
    {
     "output_type": "stream",
     "name": "stdout",
     "text": [
      "*** Initialising Robot ***\n"
     ]
    }
   ],
   "source": [
    "import smars_library.smars_library as sl\n",
    "robot = sl.SmarsRobot()\n",
    "robot.name = \"KevBot\""
   ]
  },
  {
   "cell_type": "code",
   "execution_count": 6,
   "metadata": {},
   "outputs": [],
   "source": [
    "def forward():\n",
    "    robot.walkforward(steps = 10)\n",
    "    print(\"Moved the robot Forward\")\n",
    "\n"
   ]
  },
  {
   "cell_type": "code",
   "execution_count": 3,
   "metadata": {},
   "outputs": [
    {
     "output_type": "stream",
     "name": "stdout",
     "text": [
      "KevBot sitting Down.\n",
      "KevBot standing up.\n",
      "Moved the robot Forward\n"
     ]
    }
   ],
   "source": [
    "forward()"
   ]
  }
 ]
}