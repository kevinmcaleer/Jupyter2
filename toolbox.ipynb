{
 "cells": [
  {
   "source": [
    "# Welcome to SMARS Notebook\n",
    "\n",
    "Use the experiments in this notebook to learn how to use SMARS_Library"
   ],
   "cell_type": "markdown",
   "metadata": {}
  },
  {
   "source": [
    "# Import the library\n",
    "First we need to import the `smars_library` module"
   ],
   "cell_type": "markdown",
   "metadata": {}
  },
  {
   "cell_type": "code",
   "execution_count": 13,
   "metadata": {},
   "outputs": [],
   "source": [
    "import smars_library.smars_library as sm"
   ]
  },
  {
   "source": [
    "Lets create a robot using the `SmarsRobot()` class"
   ],
   "cell_type": "markdown",
   "metadata": {}
  },
  {
   "cell_type": "code",
   "execution_count": 14,
   "metadata": {},
   "outputs": [
    {
     "output_type": "stream",
     "name": "stdout",
     "text": [
      "*** Initialising Robot ***\n"
     ]
    }
   ],
   "source": [
    "robot = sm.SmarsRobot()"
   ]
  },
  {
   "cell_type": "code",
   "execution_count": 15,
   "metadata": {},
   "outputs": [
    {
     "output_type": "stream",
     "name": "stdout",
     "text": [
      "*** KevBot Online ***\n"
     ]
    }
   ],
   "source": [
    "robot.name = \"KevBot\""
   ]
  },
  {
   "cell_type": "code",
   "execution_count": 16,
   "metadata": {},
   "outputs": [
    {
     "output_type": "stream",
     "name": "stdout",
     "text": [
      "KevBot standing up.\n"
     ]
    }
   ],
   "source": [
    "robot.stand()"
   ]
  },
  {
   "cell_type": "code",
   "execution_count": 17,
   "metadata": {},
   "outputs": [
    {
     "output_type": "stream",
     "name": "stdout",
     "text": [
      "KevBot sitting Down.\n"
     ]
    }
   ],
   "source": [
    "robot.sit()"
   ]
  },
  {
   "cell_type": "code",
   "execution_count": 18,
   "metadata": {},
   "outputs": [
    {
     "output_type": "execute_result",
     "data": {
      "text/plain": [
       "[['left_leg_front', 9],\n",
       " ['right_leg_front', 180],\n",
       " ['left_leg_back', 180],\n",
       " ['right_leg_back', 90],\n",
       " ['left_foot_front', 9],\n",
       " ['right_foot_front', 180],\n",
       " ['left_foot_back', 180],\n",
       " ['right_foot_back', 90]]"
      ]
     },
     "metadata": {},
     "execution_count": 18
    }
   ],
   "source": [
    "robot.get_telemetry()"
   ]
  },
  {
   "cell_type": "code",
   "execution_count": 19,
   "metadata": {},
   "outputs": [
    {
     "output_type": "stream",
     "name": "stdout",
     "text": [
      "KevBot Turning left.\n"
     ]
    }
   ],
   "source": [
    "robot.turnleft()"
   ]
  },
  {
   "cell_type": "code",
   "execution_count": 20,
   "metadata": {},
   "outputs": [
    {
     "output_type": "stream",
     "name": "stdout",
     "text": [
      "KevBot Turning Right.\n"
     ]
    }
   ],
   "source": [
    "robot.turnright()"
   ]
  },
  {
   "source": [
    "robot.forward()"
   ],
   "cell_type": "code",
   "metadata": {},
   "execution_count": 21,
   "outputs": [
    {
     "output_type": "stream",
     "name": "stdout",
     "text": [
      "Moving Forward\nKevBot sitting Down.\nKevBot standing up.\n"
     ]
    }
   ]
  },
  {
   "cell_type": "code",
   "execution_count": 22,
   "metadata": {},
   "outputs": [
    {
     "output_type": "stream",
     "name": "stdout",
     "text": [
      "Moving Backward\nKevBot sitting Down.\nKevBot standing up.\n"
     ]
    }
   ],
   "source": [
    "robot.backward()"
   ]
  },
  {
   "source": [
    "---\n",
    "\n",
    "# Silliness\n",
    "Lets make our robot Clap and wiggle"
   ],
   "cell_type": "markdown",
   "metadata": {}
  },
  {
   "cell_type": "code",
   "execution_count": 23,
   "metadata": {},
   "outputs": [
    {
     "output_type": "stream",
     "name": "stdout",
     "text": [
      "Clapping\n",
      "KevBot sitting Down.\n",
      "KevBot standing up.\n"
     ]
    }
   ],
   "source": [
    "robot.clap()"
   ]
  },
  {
   "cell_type": "code",
   "execution_count": 24,
   "metadata": {},
   "outputs": [
    {
     "output_type": "stream",
     "name": "stdout",
     "text": [
      "Wiggling\n",
      "KevBot sitting Down.\n",
      "KevBot standing up.\n"
     ]
    }
   ],
   "source": [
    "robot.wiggle()"
   ]
  },
  {
   "cell_type": "code",
   "execution_count": null,
   "metadata": {},
   "outputs": [],
   "source": []
  }
 ],
 "metadata": {
  "kernelspec": {
   "display_name": "Python 3",
   "language": "python",
   "name": "python3"
  },
  "language_info": {
   "codemirror_mode": {
    "name": "ipython",
    "version": 3
   },
   "file_extension": ".py",
   "mimetype": "text/x-python",
   "name": "python",
   "nbconvert_exporter": "python",
   "pygments_lexer": "ipython3",
   "version": "3.8.2-final"
  }
 },
 "nbformat": 4,
 "nbformat_minor": 4
}